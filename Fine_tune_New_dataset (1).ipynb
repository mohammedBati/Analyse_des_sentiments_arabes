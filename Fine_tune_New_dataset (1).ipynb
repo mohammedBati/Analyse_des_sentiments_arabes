{
  "cells": [
    {
      "cell_type": "code",
      "execution_count": null,
      "metadata": {
        "id": "0GUAssKboqSA"
      },
      "outputs": [],
      "source": [
        "%load_ext autoreload\n",
        "%autoreload 2\n",
        "%matplotlib inline"
      ]
    },
    {
      "cell_type": "code",
      "execution_count": null,
      "metadata": {
        "colab": {
          "base_uri": "https://localhost:8080/"
        },
        "id": "zfQGqSPtHGRb",
        "outputId": "2b135e38-e300-4410-c498-54723fd41476"
      },
      "outputs": [
        {
          "output_type": "stream",
          "name": "stdout",
          "text": [
            "/content/drive/MyDrive/Projet_TM/hULMonA\n"
          ]
        }
      ],
      "source": [
        "cd /content/drive/MyDrive/Projet_TM/hULMonA"
      ]
    },
    {
      "cell_type": "code",
      "execution_count": null,
      "metadata": {
        "id": "k0oYiG9loqSb"
      },
      "outputs": [],
      "source": [
        "#from fastai.data.all import *\n",
        "#from fastai.imports import *\n",
        "from fastai import *\n",
        "from fastai.text import *\n",
        "from fastai.text.transform import * \n",
        "import fastai"
      ]
    },
    {
      "cell_type": "code",
      "source": [
        "print(fastai.__version__)"
      ],
      "metadata": {
        "colab": {
          "base_uri": "https://localhost:8080/"
        },
        "id": "VF0s2TCYsPGF",
        "outputId": "09d3cb5f-81b8-4560-a5ae-ce7a6ea90506"
      },
      "execution_count": null,
      "outputs": [
        {
          "output_type": "stream",
          "name": "stdout",
          "text": [
            "1.0.64.dev0\n"
          ]
        }
      ]
    },
    {
      "cell_type": "code",
      "source": [
        "pip install fastai==1.0.61"
      ],
      "metadata": {
        "id": "qdawIdKjN851"
      },
      "execution_count": null,
      "outputs": []
    },
    {
      "cell_type": "code",
      "source": [
        "pip install spacy==2.2.4"
      ],
      "metadata": {
        "id": "KpEJMMTKDPUt"
      },
      "execution_count": null,
      "outputs": []
    },
    {
      "cell_type": "code",
      "execution_count": null,
      "metadata": {
        "colab": {
          "base_uri": "https://localhost:8080/"
        },
        "id": "WnMQ9jAcm8HK",
        "outputId": "3d34230f-8941-4a69-a8ce-f522a7ec41e5"
      },
      "outputs": [
        {
          "output_type": "execute_result",
          "data": {
            "text/plain": [
              "[PosixPath('fine_tune_LM.ipynb'),\n",
              " PosixPath('.git'),\n",
              " PosixPath('.gitignore'),\n",
              " PosixPath('README.md'),\n",
              " PosixPath('data'),\n",
              " PosixPath('models'),\n",
              " PosixPath('resources'),\n",
              " PosixPath('arabic-wiki-stuff.ipynb'),\n",
              " PosixPath('build_arabic_language_model.ipynb'),\n",
              " PosixPath('Untitled0.ipynb')]"
            ]
          },
          "metadata": {},
          "execution_count": 4
        }
      ],
      "source": [
        "path = Path('.')\n",
        "path.ls()"
      ]
    },
    {
      "cell_type": "code",
      "execution_count": null,
      "metadata": {
        "colab": {
          "base_uri": "https://localhost:8080/"
        },
        "id": "zNocyoQ54AaH",
        "outputId": "e57a8156-f533-4052-bfdc-462d3eaccd3a"
      },
      "outputs": [
        {
          "output_type": "stream",
          "name": "stdout",
          "text": [
            "Mounted at /content/drive\n"
          ]
        }
      ],
      "source": [
        "from google.colab import drive\n",
        "drive.mount('/content/drive')"
      ]
    },
    {
      "cell_type": "markdown",
      "metadata": {
        "id": "6IjDFoXEoqSp"
      },
      "source": [
        "## prepare data for MADAMIRA"
      ]
    },
    {
      "cell_type": "code",
      "execution_count": null,
      "metadata": {
        "colab": {
          "base_uri": "https://localhost:8080/"
        },
        "id": "0MEITD3uoqSy",
        "outputId": "83352cf6-aa85-483b-fb94-3ed25842c312"
      },
      "outputs": [
        {
          "output_type": "stream",
          "name": "stdout",
          "text": [
            "\\^=/«“:–؟_;\"@`\\-&*)÷\\'؛،¦×?»<{\\[!(#}ـ$%>”.,~\\]|…\n"
          ]
        }
      ],
      "source": [
        "import string\n",
        "\n",
        "#preparing punctuations list\n",
        "arabic_punctuations = '''`÷×؛<>_()*&^%][ـ،/:\"؟.,'{}~¦+|!”…“–ـ«»'''\n",
        "english_punctuations = string.punctuation\n",
        "punc_to_remove = ''.join(set(arabic_punctuations + english_punctuations))\n",
        "punc_to_keep = '+'\n",
        "punc_to_escape = '''[]-^'''\n",
        "for p in punc_to_keep: punc_to_remove = punc_to_remove.replace(p, '')\n",
        "for p in punc_to_escape: punc_to_remove = punc_to_remove.replace(p, '\\\\{}'.format(p))\n",
        "print(punc_to_remove)\n",
        "\n",
        "def pre_process(text):\n",
        "    text = text.replace('\\\\n', ' ').replace('\\n', ' ')\n",
        "    text = text.replace('؛', '،')\n",
        "    text = re.sub(r'\\([^)]+\\)', '', text)  # remove parentheses and everything in between\n",
        "    text = re.sub(r'[a-zA-Z]', '', text)  # remove non-arabic characters\n",
        "    text = re.sub(r'\\d+(\\.\\d+)?', ' رقم ', text)  # replace numbers by special token\n",
        "    for p in punc_to_remove: text = text.replace(p, '')  # remove punctuations\n",
        "    text = re.sub(r'(.)\\1{2,}', r'\\1', text)  # remove repeated chars\n",
        "    text = re.sub(r'\\s+', r' ', text)\n",
        "    return text"
      ]
    },
    {
      "cell_type": "code",
      "execution_count": null,
      "metadata": {
        "id": "GHCUofNvoqT3"
      },
      "outputs": [],
      "source": [
        "df = pd.read_csv(path/'data'/'arabic_categorization_data.csv')\n",
        "df.head()\n",
        "\n",
        "#with open(path/'data'/'ASTD-B.csv', encoding='Windows-1256') as file:\n",
        "#    print(file.readlines()[:5])"
      ]
    },
    {
      "cell_type": "code",
      "execution_count": null,
      "metadata": {
        "id": "6-RyjaN4oqT4"
      },
      "outputs": [],
      "source": [
        "df.polarity.value_counts() # balanced"
      ]
    },
    {
      "cell_type": "code",
      "execution_count": null,
      "metadata": {
        "id": "sio88fxQoqT5"
      },
      "outputs": [],
      "source": [
        "df.text.to_csv(path/'data'/'arabic_categorization_text_only.txt', header=False, index=False)"
      ]
    },
    {
      "cell_type": "markdown",
      "metadata": {
        "id": "ZWIIQEtkoqT6"
      },
      "source": [
        "MADAMIRA..."
      ]
    },
    {
      "cell_type": "code",
      "execution_count": null,
      "metadata": {
        "id": "awXqVzc9oqT7"
      },
      "outputs": [],
      "source": [
        "df_mada = pd.read_csv(path/'data'/'arabic_categorization_text_only.txt', sep='\\t', header=None, names=['processed_text'])\n",
        "df_mada.head()"
      ]
    },
    {
      "cell_type": "code",
      "execution_count": null,
      "metadata": {
        "id": "amtcp6aMoqT-"
      },
      "outputs": [],
      "source": [
        "df['text'] = df_mada.processed_text\n",
        "df.to_csv(path/'data'/'arabic_categorization_final.csv', index=False)"
      ]
    },
    {
      "cell_type": "markdown",
      "metadata": {
        "id": "dytQAunVoqUY"
      },
      "source": [
        "## Fine-Tune pre-trained LM"
      ]
    },
    {
      "cell_type": "code",
      "execution_count": null,
      "metadata": {
        "id": "7lgJLx46oqUZ"
      },
      "outputs": [],
      "source": [
        "pretrained_fnames=['Ar-LM-epoch1-acc43','itos']"
      ]
    },
    {
      "cell_type": "code",
      "execution_count": null,
      "metadata": {
        "colab": {
          "base_uri": "https://localhost:8080/",
          "height": 241
        },
        "id": "4zW7xgSooqUa",
        "outputId": "3d13b641-5819-4d04-88da-71f90167da08"
      },
      "outputs": [
        {
          "output_type": "stream",
          "name": "stdout",
          "text": [
            "(10366, 2)\n",
            "(8292, 2) (2074, 2)\n"
          ]
        },
        {
          "output_type": "execute_result",
          "data": {
            "text/plain": [
              "                                                   text               type\n",
              "7136  \\nأفاد مدير عام الامتحانات بوزارة التربية، عمر...          localnews\n",
              "5120  \\nتمكّنت، أمس الثلاثاء 18 أفريل 2017، فرقة الأ...            society\n",
              "9959  \\nتمكن أعوان مركز الأمن الوطني بالوردانين ليلة...          localnews\n",
              "1817  \\nأدانت تونس بشدة الإعتداء الإرهابي الجبان الذ...  internationalNews\n",
              "1937  \\nقدم وزير العدل الهولندي أرد فان دير ستيور اس...  internationalNews"
            ],
            "text/html": [
              "\n",
              "  <div id=\"df-4d21f0c8-c15c-4caf-9769-047bfc54ec6d\">\n",
              "    <div class=\"colab-df-container\">\n",
              "      <div>\n",
              "<style scoped>\n",
              "    .dataframe tbody tr th:only-of-type {\n",
              "        vertical-align: middle;\n",
              "    }\n",
              "\n",
              "    .dataframe tbody tr th {\n",
              "        vertical-align: top;\n",
              "    }\n",
              "\n",
              "    .dataframe thead th {\n",
              "        text-align: right;\n",
              "    }\n",
              "</style>\n",
              "<table border=\"1\" class=\"dataframe\">\n",
              "  <thead>\n",
              "    <tr style=\"text-align: right;\">\n",
              "      <th></th>\n",
              "      <th>text</th>\n",
              "      <th>type</th>\n",
              "    </tr>\n",
              "  </thead>\n",
              "  <tbody>\n",
              "    <tr>\n",
              "      <th>7136</th>\n",
              "      <td>\\nأفاد مدير عام الامتحانات بوزارة التربية، عمر...</td>\n",
              "      <td>localnews</td>\n",
              "    </tr>\n",
              "    <tr>\n",
              "      <th>5120</th>\n",
              "      <td>\\nتمكّنت، أمس الثلاثاء 18 أفريل 2017، فرقة الأ...</td>\n",
              "      <td>society</td>\n",
              "    </tr>\n",
              "    <tr>\n",
              "      <th>9959</th>\n",
              "      <td>\\nتمكن أعوان مركز الأمن الوطني بالوردانين ليلة...</td>\n",
              "      <td>localnews</td>\n",
              "    </tr>\n",
              "    <tr>\n",
              "      <th>1817</th>\n",
              "      <td>\\nأدانت تونس بشدة الإعتداء الإرهابي الجبان الذ...</td>\n",
              "      <td>internationalNews</td>\n",
              "    </tr>\n",
              "    <tr>\n",
              "      <th>1937</th>\n",
              "      <td>\\nقدم وزير العدل الهولندي أرد فان دير ستيور اس...</td>\n",
              "      <td>internationalNews</td>\n",
              "    </tr>\n",
              "  </tbody>\n",
              "</table>\n",
              "</div>\n",
              "      <button class=\"colab-df-convert\" onclick=\"convertToInteractive('df-4d21f0c8-c15c-4caf-9769-047bfc54ec6d')\"\n",
              "              title=\"Convert this dataframe to an interactive table.\"\n",
              "              style=\"display:none;\">\n",
              "        \n",
              "  <svg xmlns=\"http://www.w3.org/2000/svg\" height=\"24px\"viewBox=\"0 0 24 24\"\n",
              "       width=\"24px\">\n",
              "    <path d=\"M0 0h24v24H0V0z\" fill=\"none\"/>\n",
              "    <path d=\"M18.56 5.44l.94 2.06.94-2.06 2.06-.94-2.06-.94-.94-2.06-.94 2.06-2.06.94zm-11 1L8.5 8.5l.94-2.06 2.06-.94-2.06-.94L8.5 2.5l-.94 2.06-2.06.94zm10 10l.94 2.06.94-2.06 2.06-.94-2.06-.94-.94-2.06-.94 2.06-2.06.94z\"/><path d=\"M17.41 7.96l-1.37-1.37c-.4-.4-.92-.59-1.43-.59-.52 0-1.04.2-1.43.59L10.3 9.45l-7.72 7.72c-.78.78-.78 2.05 0 2.83L4 21.41c.39.39.9.59 1.41.59.51 0 1.02-.2 1.41-.59l7.78-7.78 2.81-2.81c.8-.78.8-2.07 0-2.86zM5.41 20L4 18.59l7.72-7.72 1.47 1.35L5.41 20z\"/>\n",
              "  </svg>\n",
              "      </button>\n",
              "      \n",
              "  <style>\n",
              "    .colab-df-container {\n",
              "      display:flex;\n",
              "      flex-wrap:wrap;\n",
              "      gap: 12px;\n",
              "    }\n",
              "\n",
              "    .colab-df-convert {\n",
              "      background-color: #E8F0FE;\n",
              "      border: none;\n",
              "      border-radius: 50%;\n",
              "      cursor: pointer;\n",
              "      display: none;\n",
              "      fill: #1967D2;\n",
              "      height: 32px;\n",
              "      padding: 0 0 0 0;\n",
              "      width: 32px;\n",
              "    }\n",
              "\n",
              "    .colab-df-convert:hover {\n",
              "      background-color: #E2EBFA;\n",
              "      box-shadow: 0px 1px 2px rgba(60, 64, 67, 0.3), 0px 1px 3px 1px rgba(60, 64, 67, 0.15);\n",
              "      fill: #174EA6;\n",
              "    }\n",
              "\n",
              "    [theme=dark] .colab-df-convert {\n",
              "      background-color: #3B4455;\n",
              "      fill: #D2E3FC;\n",
              "    }\n",
              "\n",
              "    [theme=dark] .colab-df-convert:hover {\n",
              "      background-color: #434B5C;\n",
              "      box-shadow: 0px 1px 3px 1px rgba(0, 0, 0, 0.15);\n",
              "      filter: drop-shadow(0px 1px 2px rgba(0, 0, 0, 0.3));\n",
              "      fill: #FFFFFF;\n",
              "    }\n",
              "  </style>\n",
              "\n",
              "      <script>\n",
              "        const buttonEl =\n",
              "          document.querySelector('#df-4d21f0c8-c15c-4caf-9769-047bfc54ec6d button.colab-df-convert');\n",
              "        buttonEl.style.display =\n",
              "          google.colab.kernel.accessAllowed ? 'block' : 'none';\n",
              "\n",
              "        async function convertToInteractive(key) {\n",
              "          const element = document.querySelector('#df-4d21f0c8-c15c-4caf-9769-047bfc54ec6d');\n",
              "          const dataTable =\n",
              "            await google.colab.kernel.invokeFunction('convertToInteractive',\n",
              "                                                     [key], {});\n",
              "          if (!dataTable) return;\n",
              "\n",
              "          const docLinkHtml = 'Like what you see? Visit the ' +\n",
              "            '<a target=\"_blank\" href=https://colab.research.google.com/notebooks/data_table.ipynb>data table notebook</a>'\n",
              "            + ' to learn more about interactive tables.';\n",
              "          element.innerHTML = '';\n",
              "          dataTable['output_type'] = 'display_data';\n",
              "          await google.colab.output.renderOutput(dataTable, element);\n",
              "          const docLink = document.createElement('div');\n",
              "          docLink.innerHTML = docLinkHtml;\n",
              "          element.appendChild(docLink);\n",
              "        }\n",
              "      </script>\n",
              "    </div>\n",
              "  </div>\n",
              "  "
            ]
          },
          "metadata": {},
          "execution_count": 6
        }
      ],
      "source": [
        "from sklearn.model_selection import train_test_split\n",
        "\n",
        "df = pd.read_csv(path/'data'/'arabic_categorization_final.csv')\n",
        "df.drop('Unnamed: 0', inplace=True, axis=1)\n",
        "print(df.shape)\n",
        "#df.dropna(inplace=True)\n",
        "#print(df.shape)\n",
        "#df.Tweet = df.Tweet.apply(lambda x: pre_process(x))\n",
        "#df.label.replace({'very_positive':2, 'positive':1, 'neutral':0, 'negative':-1, 'very_negative':-2}, inplace=True)\n",
        "np.random.seed(42)\n",
        "df_train, df_val = train_test_split(df, test_size=0.2)\n",
        "print(df_train.shape, df_val.shape)\n",
        "#df.columns\n",
        "df_train.head()"
      ]
    },
    {
      "cell_type": "code",
      "execution_count": null,
      "metadata": {
        "id": "Eh13qOcqoqUb"
      },
      "outputs": [],
      "source": [
        "df_train.type.value_counts()"
      ]
    },
    {
      "cell_type": "code",
      "execution_count": null,
      "metadata": {
        "id": "0yA6v9b1oqUd"
      },
      "outputs": [],
      "source": [
        "df_val.Category.value_counts()"
      ]
    },
    {
      "cell_type": "code",
      "execution_count": null,
      "metadata": {
        "id": "dnDHpKJSoqUf"
      },
      "outputs": [],
      "source": [
        "df_train.info()"
      ]
    },
    {
      "cell_type": "code",
      "execution_count": null,
      "metadata": {
        "id": "wRy8cSDToqUi"
      },
      "outputs": [],
      "source": [
        "df.isnull().sum()"
      ]
    },
    {
      "cell_type": "code",
      "execution_count": null,
      "metadata": {
        "colab": {
          "base_uri": "https://localhost:8080/",
          "height": 72
        },
        "id": "S1A4OesUoqUk",
        "outputId": "e84d3b35-9495-41ad-cc38-a78ec42189ca"
      },
      "outputs": [
        {
          "output_type": "display_data",
          "data": {
            "text/plain": [
              "<IPython.core.display.HTML object>"
            ],
            "text/html": [
              "\n",
              "<style>\n",
              "    /* Turns off some styling */\n",
              "    progress {\n",
              "        /* gets rid of default border in Firefox and Opera. */\n",
              "        border: none;\n",
              "        /* Needs to be in here for Safari polyfill so background images work as expected. */\n",
              "        background-size: auto;\n",
              "    }\n",
              "    .progress-bar-interrupted, .progress-bar-interrupted::-webkit-progress-bar {\n",
              "        background: #F44336;\n",
              "    }\n",
              "</style>\n"
            ]
          },
          "metadata": {}
        },
        {
          "output_type": "display_data",
          "data": {
            "text/plain": [
              "<IPython.core.display.HTML object>"
            ],
            "text/html": [
              ""
            ]
          },
          "metadata": {}
        },
        {
          "output_type": "stream",
          "name": "stderr",
          "text": [
            "/usr/local/lib/python3.7/dist-packages/fastai/core.py:302: VisibleDeprecationWarning: Creating an ndarray from ragged nested sequences (which is a list-or-tuple of lists-or-tuples-or ndarrays with different lengths or shapes) is deprecated. If you meant to do this, you must specify 'dtype=object' when creating the ndarray.\n",
            "  return np.array(a, dtype=dtype, **kwargs)\n"
          ]
        },
        {
          "output_type": "display_data",
          "data": {
            "text/plain": [
              "<IPython.core.display.HTML object>"
            ],
            "text/html": [
              "\n",
              "<style>\n",
              "    /* Turns off some styling */\n",
              "    progress {\n",
              "        /* gets rid of default border in Firefox and Opera. */\n",
              "        border: none;\n",
              "        /* Needs to be in here for Safari polyfill so background images work as expected. */\n",
              "        background-size: auto;\n",
              "    }\n",
              "    .progress-bar-interrupted, .progress-bar-interrupted::-webkit-progress-bar {\n",
              "        background: #F44336;\n",
              "    }\n",
              "</style>\n"
            ]
          },
          "metadata": {}
        },
        {
          "output_type": "display_data",
          "data": {
            "text/plain": [
              "<IPython.core.display.HTML object>"
            ],
            "text/html": [
              ""
            ]
          },
          "metadata": {}
        }
      ],
      "source": [
        "ar_tok = Tokenizer(lang='ar')\n",
        "data_lm = TextLMDataBunch.from_df(path, train_df=df_train, valid_df=df_val, text_cols=0, label_cols=None, tokenizer=ar_tok, bs=64, include_bos=False, min_freq=4)"
      ]
    },
    {
      "cell_type": "code",
      "execution_count": null,
      "metadata": {
        "id": "_qK9XsbdoqUm"
      },
      "outputs": [],
      "source": [
        "data_lm.train_ds.x"
      ]
    },
    {
      "cell_type": "code",
      "execution_count": null,
      "metadata": {
        "id": "HzGO8w8QoqUn"
      },
      "outputs": [],
      "source": [
        "data_lm.show_batch()"
      ]
    },
    {
      "cell_type": "code",
      "execution_count": null,
      "metadata": {
        "id": "mn2KwgbwoqUo"
      },
      "outputs": [],
      "source": [
        "config = awd_lstm_lm_config.copy()\n",
        "config['n_hid'] = 1150\n",
        "learn_lm = language_model_learner(data_lm, AWD_LSTM, drop_mult=0.2, pretrained_fnames=pretrained_fnames,config=config)"
      ]
    },
    {
      "cell_type": "code",
      "execution_count": null,
      "metadata": {
        "id": "S3exNaeYoqUp"
      },
      "outputs": [],
      "source": [
        "learn_lm.lr_find()\n",
        "learn_lm.recorder.plot()"
      ]
    },
    {
      "cell_type": "code",
      "execution_count": null,
      "metadata": {
        "id": "-V_kk141oqUq"
      },
      "outputs": [],
      "source": [
        "learn_lm.fit_one_cycle(1, 5e-2)"
      ]
    },
    {
      "cell_type": "code",
      "execution_count": null,
      "metadata": {
        "id": "-rooa2-coqUq"
      },
      "outputs": [],
      "source": [
        "learn_lm.save('learn_lm_arabic_categori_epoch1_acc272')"
      ]
    },
    {
      "cell_type": "code",
      "execution_count": null,
      "metadata": {
        "id": "UPYidYSQoqUr"
      },
      "outputs": [],
      "source": [
        "learn_lm.unfreeze()"
      ]
    },
    {
      "cell_type": "code",
      "execution_count": null,
      "metadata": {
        "id": "OHUK2o7zoqUs"
      },
      "outputs": [],
      "source": [
        "learn_lm.lr_find()\n",
        "learn_lm.recorder.plot()"
      ]
    },
    {
      "cell_type": "code",
      "execution_count": null,
      "metadata": {
        "id": "DeTzqpV6oqUu"
      },
      "outputs": [],
      "source": [
        "learn_lm.fit_one_cycle(6, slice(5e-3/(2.6**4),5e-3))"
      ]
    },
    {
      "cell_type": "code",
      "execution_count": null,
      "metadata": {
        "id": "bPv4bfCWoqUw"
      },
      "outputs": [],
      "source": [
        "learn_lm.save_encoder('fine_tuned_encoder_arabic_categori_acc326_min4')\n",
        "# 3.935220\t4.281686\t0.295004"
      ]
    },
    {
      "cell_type": "code",
      "execution_count": null,
      "metadata": {
        "id": "GTfzEQT6oqUx"
      },
      "outputs": [],
      "source": [
        "learn_lm.predict('الله يبارك في +ك ', n_words=30)"
      ]
    },
    {
      "cell_type": "markdown",
      "metadata": {
        "id": "Zf2a6U_9oqUy"
      },
      "source": [
        "## Classifier"
      ]
    },
    {
      "cell_type": "code",
      "execution_count": null,
      "metadata": {
        "id": "OmzJJ_vPoqUy",
        "colab": {
          "base_uri": "https://localhost:8080/",
          "height": 124
        },
        "outputId": "4e1c11c6-cc7e-4b22-b6ad-efc7fa4ada0d"
      },
      "outputs": [
        {
          "output_type": "display_data",
          "data": {
            "text/plain": [
              "<IPython.core.display.HTML object>"
            ],
            "text/html": [
              "\n",
              "<style>\n",
              "    /* Turns off some styling */\n",
              "    progress {\n",
              "        /* gets rid of default border in Firefox and Opera. */\n",
              "        border: none;\n",
              "        /* Needs to be in here for Safari polyfill so background images work as expected. */\n",
              "        background-size: auto;\n",
              "    }\n",
              "    .progress-bar-interrupted, .progress-bar-interrupted::-webkit-progress-bar {\n",
              "        background: #F44336;\n",
              "    }\n",
              "</style>\n"
            ]
          },
          "metadata": {}
        },
        {
          "output_type": "display_data",
          "data": {
            "text/plain": [
              "<IPython.core.display.HTML object>"
            ],
            "text/html": [
              ""
            ]
          },
          "metadata": {}
        },
        {
          "output_type": "stream",
          "name": "stderr",
          "text": [
            "/usr/local/lib/python3.7/dist-packages/fastai/core.py:302: VisibleDeprecationWarning: Creating an ndarray from ragged nested sequences (which is a list-or-tuple of lists-or-tuples-or ndarrays with different lengths or shapes) is deprecated. If you meant to do this, you must specify 'dtype=object' when creating the ndarray.\n",
            "  return np.array(a, dtype=dtype, **kwargs)\n"
          ]
        },
        {
          "output_type": "display_data",
          "data": {
            "text/plain": [
              "<IPython.core.display.HTML object>"
            ],
            "text/html": [
              "\n",
              "<style>\n",
              "    /* Turns off some styling */\n",
              "    progress {\n",
              "        /* gets rid of default border in Firefox and Opera. */\n",
              "        border: none;\n",
              "        /* Needs to be in here for Safari polyfill so background images work as expected. */\n",
              "        background-size: auto;\n",
              "    }\n",
              "    .progress-bar-interrupted, .progress-bar-interrupted::-webkit-progress-bar {\n",
              "        background: #F44336;\n",
              "    }\n",
              "</style>\n"
            ]
          },
          "metadata": {}
        },
        {
          "output_type": "display_data",
          "data": {
            "text/plain": [
              "<IPython.core.display.HTML object>"
            ],
            "text/html": [
              ""
            ]
          },
          "metadata": {}
        },
        {
          "output_type": "stream",
          "name": "stderr",
          "text": [
            "/usr/local/lib/python3.7/dist-packages/fastai/text/data.py:124: VisibleDeprecationWarning: Creating an ndarray from ragged nested sequences (which is a list-or-tuple of lists-or-tuples-or ndarrays with different lengths or shapes) is deprecated. If you meant to do this, you must specify 'dtype=object' when creating the ndarray.\n",
            "  sort_idx = np.concatenate(np.random.permutation(ck_idx[1:])) if len(ck_idx) > 1 else np.array([],dtype=np.int)\n",
            "<string>:6: VisibleDeprecationWarning: Creating an ndarray from ragged nested sequences (which is a list-or-tuple of lists-or-tuples-or ndarrays with different lengths or shapes) is deprecated. If you meant to do this, you must specify 'dtype=object' when creating the ndarray.\n"
          ]
        }
      ],
      "source": [
        "ar_tok = Tokenizer(lang='ar')\n",
        "data_clas = TextClasDataBunch.from_df(path, train_df=df_train, valid_df=df_val, text_cols=0, label_cols=1, tokenizer=ar_tok, bs=32, vocab=data_lm.train_ds.vocab, include_bos=False, min_freq=4)"
      ]
    },
    {
      "cell_type": "code",
      "execution_count": null,
      "metadata": {
        "id": "Oxle2CWKoqU2",
        "colab": {
          "base_uri": "https://localhost:8080/",
          "height": 1000
        },
        "outputId": "e7865db9-6900-4da6-94b4-5eaee8bacd66"
      },
      "outputs": [
        {
          "output_type": "stream",
          "name": "stdout",
          "text": [
            "Downloading https://s3.amazonaws.com/fast-ai-modelzoo/wt103-fwd.tgz\n"
          ]
        },
        {
          "output_type": "display_data",
          "data": {
            "text/plain": [
              "<IPython.core.display.HTML object>"
            ],
            "text/html": [
              "\n",
              "<style>\n",
              "    /* Turns off some styling */\n",
              "    progress {\n",
              "        /* gets rid of default border in Firefox and Opera. */\n",
              "        border: none;\n",
              "        /* Needs to be in here for Safari polyfill so background images work as expected. */\n",
              "        background-size: auto;\n",
              "    }\n",
              "    .progress-bar-interrupted, .progress-bar-interrupted::-webkit-progress-bar {\n",
              "        background: #F44336;\n",
              "    }\n",
              "</style>\n"
            ]
          },
          "metadata": {}
        },
        {
          "output_type": "display_data",
          "data": {
            "text/plain": [
              "<IPython.core.display.HTML object>"
            ],
            "text/html": [
              ""
            ]
          },
          "metadata": {}
        },
        {
          "output_type": "execute_result",
          "data": {
            "text/plain": [
              "RNNLearner(data=TextClasDataBunch;\n",
              "\n",
              "Train: LabelList (8292 items)\n",
              "x: TextList\n",
              " \n",
              "  أفاد مدير عام الامتحانات بوزارة التربية ، عمر الولباني ، أنه سيتم خلال دورة 2017 لامتحان الباكالوريا تركيز تقنيات أكثر xxunk xxunk من التقنيات المعتمدة في الدورات السابقة ، وذلك لمزيد xxunk الاختبارات الوطنية من عمليات الغش الالكتروني . \n",
              "  وأضاف ، الولباني ، في تصريح xxunk \" ، الاربعاء ، أن \" هذا الاجراء يهدف الى تضييق الخناق على هذا النوع من الغش والتصدي لكل المظاهر التي من شأنها أن تخل xxunk العادي للامتحانات الوطنية ، وتحقيق xxunk في النجاح بين مختلف xxunk وأشار ، في السياق ذاته ، الى أن \" الوزارة انطلقت في اعتماد هذا التوجه منذ سنتين الامر الذي ساهم بشكل كبير في تراجع مثل هذه المحاولات في السنوات الفارطة \" مبينا أن \" الوزارة حريصة على أن تبقى مواضيع الامتحانات أداة قيس صادقة xxunk تعكس المستوى xxunk للتلميذ بعيدا عن xxunk \n",
              " , \n",
              "  تمكّنت ، أمس الثلاثاء 18 أفريل 2017 ، فرقة الأبحاث والتفتيش للحرس الوطني بالتضامن ( ولاية أريانة ) من إلقاء القبض أحد المنحرفين بعد نصب كمين محكم ، بحسب بلاغ صادر عن وزارة الداخلية .   \n",
              "  وبتفتيش منزله تمّ العثور على كمية هامّة من الأقراص المخدّرة ( xxunk قرصا ) معدّة للترويج ومبلغا ماليّا إعترف أنه من عائدات تجارة المخدّرات . وباستشارة النيابة العموميّة أذنت للفرقة المذكورة بالإحتفاظ xxunk من أجل \" مسك واستهلاك وترويج أقراص مخدّرة\". \n",
              " , \n",
              "  تمكن أعوان مركز الأمن الوطني بالوردانين ليلة أمس السبت في مدينة الوردانين من حجز 25 ألف رصاصة في سيارة خاصة لدى أحد المهربين الذي تم إيقافه وحاول xxunk أعوان الأمن الوطني ، وذلك وفق ما أفاد به مصدر أمني لوكالة تونس إفريقيا للأنباء اليوم الأحد . \n",
              "  وأمكن بعد التحري مع هذا المهرب الموقوف الكشف عن مهرب ثان في منزل حياة وإيقافه حيث حجز أعوان مركز الأمن الوطني بالساحلين من ولاية المنستير في سيارته كمية من الرصاص ومبلغ مالي قدره 14 ألف دينار xxunk علاوة على حجز السيارتين . وتتواصل الأبحاث مع المهربين الموقوفين للكشف عن مختلف الأطراف المتورطة وذلك حسب ذات المصدر الأمني . \n",
              " , \n",
              "  أدانت تونس بشدة الإعتداء الإرهابي الجبان الذي استهدف مساء يوم أمس مدينة نيس الفرنسية خلال الاحتفالات بذكرى العيد الوطني لفرنسا والذي أسفر عن مقتل 84 شخصاً و سقوط أكثر من 100 جريحا . \n",
              "  وجددت تضامنها التام xxunk إلى جانب فرنسا في جهودها الرامية إلى مكافحة آفة الإرهاب xxunk لكل الإجراءات التي تتخذها الحكومة الفرنسية لضمان سلامة أراضيها وأمن مواطنيها xxunk .   \n",
              "  كما دعت المجتمع الدولي بأسره للوقوف xxunk واحدا لمحاربة هذه الآفة التي لا حدود إنسانية أو أخلاقية أو دينية xxunk .   \n",
              " , \n",
              "  قدم وزير العدل الهولندي xxunk فان دير xxunk   استقالته مساء xxunk خلفية مزاعم بأنه كذب على البرلمان بشأن صفقة xxunk وزارته مع تاجر مخدرات . \n",
              "   وتأتي استقالة الوزير المحافظ الليبرالي   قبل توجه xxunk إلى صناديق الاقتراع في الانتخابات العامة المقررة في الخامس عشر من شهر مارس المقبل xxunk رفض ما أسماه \" مزاعم لا أساس لها من الصحة \" قبل أن يقدم استقالته عقب تعرضه لهجوم شديد من قبل أحزاب البرلمان . \n",
              " \n",
              "y: CategoryList\n",
              "localnews,society,localnews,internationalNews,internationalNews\n",
              "Path: .;\n",
              "\n",
              "Valid: LabelList (2074 items)\n",
              "x: TextList\n",
              " \n",
              "  ارتفعت حصيلة ضحايا الحادث الذي جد يوم الخميس الماضي في xxunk وتمثل في انفجار شاحنة لنقل المحروقات إلى 80 قتيلا . \n",
              "  كما أشارت مصادر طبية إلى وجود أكثر من 60 مصابا ما زالوا يتلقون العلاج ، بينهم 35 شخصا وصفت حالتهم xxunk . يذكر أن الحادث قد أسفر في حصيلة أولية عن مقتل 73 شخصا و اصابة 110 آخرين بجروح وذلك بعد أن طرأ عطب فني على شاحنة لنقل الوقود ومحاولة عدد من الأشخاص سرقة الوقود منها قبل أن تنفجر . \n",
              " , \n",
              "  قال محمد فريد \" ولد xxunk \" ، الفائز xxunk في برنامج \" دليلك ملك \" على قناة الحوار التونسي عبر xxunk القصيرة ، إنه قام بإرسال أكثر من 35 إرسالية قصيرة ، ليلة بث حلقة xxunk ولاية بن عروس \" xxunk \" الفائزة xxunk . \n",
              "  واستنكر خلال مداخلته في برنامج \" يا xxunk xxunk \" على موجات الجوهرة اف ام ، الحملة التي xxunk ضده عبر مواقع التواصل الاجتماعي ، مشيرا إلى أن علاقته بالحوار التونسي علاقة عمل ، كما أن سحب القرعة يتم لدى شركة \" xxunk \" وليس في قناة الحوار . وأكد ولد xxunk الذي سبق وأن شارك في \" دليلك ملك \" سنة 2014 ، أن عدل المنفذ الذي يقوم بعملية القرعة ، اتصل xxunk آخر xxunk ، لكنه لم يرد على الاتصال ، لذلك قام بعملية قرعة ثانية ، وفق ما تقتضيه قوانين البرنامج . وأضاف أنه xxunk xxunk من الأموال xxunk والمحتاجين ، كما أنه سيعمل على تطوير عمله في مجال \" xxunk \" ، xxunk الأموال في عرض ضخم حول xxunk في زغوان ، xxunk بعرض \" xxunk \n",
              " , \n",
              "  عثر أحد المواطنين بمنطقة xxunk بالحمامات عشية اليوم الأحد على كيس ملقى في حاوية للفضلات يحوي كمية من الأسلحة وفق ما أكده مصدر أمني لمراسلة الجوهرة \" اف ام \" بالجهة . \n",
              "  وقام المواطن xxunk السلطات الأمنية التي تحولت على عين المكان xxunk على xxunk xxunk غير مستعملة و50 خرطوشة عيار 70 xxunk عيار xxunk وقد تم فتح تحقيق في الموضوع . \n",
              " , \n",
              "  قال رئيس الهيئة العليا المستقلة للانتخابات ، شفيق صرصار إنه سيتم تحديد موعد الانتخابات البلدية بعد   انقضاء آجال الطعن في دستورية القانون المتعلق بهذه الانتخابات و بعد نشره في الرائد الرسمي . \n",
              "  xxunk صرصار إجراء الانتخابات البلدية أواخر السنة الحالية ، مشيرا أيضا إلى أن الهيئة ستفتح باب الانتداب مع اقتراب موعد الانتخابات . \n",
              " , \n",
              "  قال حاتم شاكر كاتب عام بلدية سوسة ضيف برنامج بوليتكا لليوم الخميس 1 ديسمبر 2016 إن أغلبية الإشكاليات المتعلقة xxunk الفوضوي واستغلال xxunk xxunk القانون تشمل الملك الخاص . \n",
              "  وأضاف حاتم أن الخواص xxunk إلى انجاز إحداث في مكان إيواء للسيارات أو غيرها مشيرا في ذات السياق إلى أن المجلس البلدي بسوسة تقدم بمقترح xxunk للمصادقة عليه يقضي بإزالة الخواص xxunk الفوضوي بصفة آلية وإذا لم يقوموا بذلك خلال فترة زمنية محددة xxunk البلدية للقيام xxunk في xxunk . وقال رئيس بلدية سوسة فيما يتعلق xxunk العمومي إنه سيتم في أول 2017 تطبيق القانون بخصوص xxunk المرخص لها من قبل البلدية وفق قوله . \n",
              " \n",
              "y: CategoryList\n",
              "internationalNews,diverse,localnews,localnews,localnews\n",
              "Path: .;\n",
              "\n",
              "Test: None, model=SequentialRNN(\n",
              "  (0): MultiBatchEncoder(\n",
              "    (module): AWD_LSTM(\n",
              "      (encoder): Embedding(23288, 400, padding_idx=1)\n",
              "      (encoder_dp): EmbeddingDropout(\n",
              "        (emb): Embedding(23288, 400, padding_idx=1)\n",
              "      )\n",
              "      (rnns): ModuleList(\n",
              "        (0): WeightDropout(\n",
              "          (module): LSTM(400, 1150, batch_first=True)\n",
              "        )\n",
              "        (1): WeightDropout(\n",
              "          (module): LSTM(1150, 1150, batch_first=True)\n",
              "        )\n",
              "        (2): WeightDropout(\n",
              "          (module): LSTM(1150, 400, batch_first=True)\n",
              "        )\n",
              "      )\n",
              "      (input_dp): RNNDropout()\n",
              "      (hidden_dps): ModuleList(\n",
              "        (0): RNNDropout()\n",
              "        (1): RNNDropout()\n",
              "        (2): RNNDropout()\n",
              "      )\n",
              "    )\n",
              "  )\n",
              "  (1): PoolingLinearClassifier(\n",
              "    (layers): Sequential(\n",
              "      (0): BatchNorm1d(1200, eps=1e-05, momentum=0.1, affine=True, track_running_stats=True)\n",
              "      (1): Dropout(p=0.020000000000000004, inplace=False)\n",
              "      (2): Linear(in_features=1200, out_features=50, bias=True)\n",
              "      (3): ReLU(inplace=True)\n",
              "      (4): BatchNorm1d(50, eps=1e-05, momentum=0.1, affine=True, track_running_stats=True)\n",
              "      (5): Dropout(p=0.1, inplace=False)\n",
              "      (6): Linear(in_features=50, out_features=9, bias=True)\n",
              "    )\n",
              "  )\n",
              "), opt_func=functools.partial(<class 'torch.optim.adam.Adam'>, betas=(0.9, 0.99)), loss_func=FlattenedLoss of CrossEntropyLoss(), metrics=[<function accuracy at 0x7f359ccf34d0>, FBeta(average='weighted', pos_label=1, eps=1e-09, beta=2)], true_wd=True, bn_wd=True, wd=0.01, train_bn=True, path=PosixPath('.'), model_dir='models', callback_fns=[functools.partial(<class 'fastai.basic_train.Recorder'>, add_time=True, silent=False)], callbacks=[RNNTrainer\n",
              "learn: ...\n",
              "alpha: 2.0\n",
              "beta: 1.0], layer_groups=[Sequential(\n",
              "  (0): Embedding(23288, 400, padding_idx=1)\n",
              "  (1): EmbeddingDropout(\n",
              "    (emb): Embedding(23288, 400, padding_idx=1)\n",
              "  )\n",
              "), Sequential(\n",
              "  (0): WeightDropout(\n",
              "    (module): LSTM(400, 1150, batch_first=True)\n",
              "  )\n",
              "  (1): RNNDropout()\n",
              "), Sequential(\n",
              "  (0): WeightDropout(\n",
              "    (module): LSTM(1150, 1150, batch_first=True)\n",
              "  )\n",
              "  (1): RNNDropout()\n",
              "), Sequential(\n",
              "  (0): WeightDropout(\n",
              "    (module): LSTM(1150, 400, batch_first=True)\n",
              "  )\n",
              "  (1): RNNDropout()\n",
              "), Sequential(\n",
              "  (0): PoolingLinearClassifier(\n",
              "    (layers): Sequential(\n",
              "      (0): BatchNorm1d(1200, eps=1e-05, momentum=0.1, affine=True, track_running_stats=True)\n",
              "      (1): Dropout(p=0.020000000000000004, inplace=False)\n",
              "      (2): Linear(in_features=1200, out_features=50, bias=True)\n",
              "      (3): ReLU(inplace=True)\n",
              "      (4): BatchNorm1d(50, eps=1e-05, momentum=0.1, affine=True, track_running_stats=True)\n",
              "      (5): Dropout(p=0.1, inplace=False)\n",
              "      (6): Linear(in_features=50, out_features=9, bias=True)\n",
              "    )\n",
              "  )\n",
              ")], add_time=True, silent=False)"
            ]
          },
          "metadata": {},
          "execution_count": 9
        }
      ],
      "source": [
        "config = awd_lstm_lm_config.copy()\n",
        "config['n_hid'] = 1150\n",
        "del config['tie_weights']\n",
        "del config['out_bias']\n",
        "learn_clas = text_classifier_learner(data_clas, AWD_LSTM, config=config, drop_mult=0.2, metrics=[accuracy,FBeta(average='weighted')])\n",
        "learn_clas.load_encoder('/content/drive/MyDrive/Projet_TM/hULMonA/models/fine_tuned_encoder_arabic_categori_acc326_min4')"
      ]
    },
    {
      "cell_type": "code",
      "execution_count": null,
      "metadata": {
        "id": "-d9VSdBHoqU3",
        "colab": {
          "base_uri": "https://localhost:8080/",
          "height": 451
        },
        "outputId": "6e9a6f7c-b81e-44c1-abc1-7805e71b8b1e"
      },
      "outputs": [
        {
          "output_type": "display_data",
          "data": {
            "text/plain": [
              "<IPython.core.display.HTML object>"
            ],
            "text/html": [
              "\n",
              "<style>\n",
              "    /* Turns off some styling */\n",
              "    progress {\n",
              "        /* gets rid of default border in Firefox and Opera. */\n",
              "        border: none;\n",
              "        /* Needs to be in here for Safari polyfill so background images work as expected. */\n",
              "        background-size: auto;\n",
              "    }\n",
              "    .progress-bar-interrupted, .progress-bar-interrupted::-webkit-progress-bar {\n",
              "        background: #F44336;\n",
              "    }\n",
              "</style>\n"
            ]
          },
          "metadata": {}
        },
        {
          "output_type": "display_data",
          "data": {
            "text/plain": [
              "<IPython.core.display.HTML object>"
            ],
            "text/html": [
              "\n",
              "    <div>\n",
              "      <progress value='0' class='' max='1' style='width:300px; height:20px; vertical-align: middle;'></progress>\n",
              "      0.00% [0/1 00:00<00:00]\n",
              "    </div>\n",
              "    \n",
              "<table border=\"1\" class=\"dataframe\">\n",
              "  <thead>\n",
              "    <tr style=\"text-align: left;\">\n",
              "      <th>epoch</th>\n",
              "      <th>train_loss</th>\n",
              "      <th>valid_loss</th>\n",
              "      <th>accuracy</th>\n",
              "      <th>f_beta</th>\n",
              "      <th>time</th>\n",
              "    </tr>\n",
              "  </thead>\n",
              "  <tbody>\n",
              "  </tbody>\n",
              "</table><p>\n",
              "\n",
              "    <div>\n",
              "      <progress value='95' class='' max='259' style='width:300px; height:20px; vertical-align: middle;'></progress>\n",
              "      36.68% [95/259 00:09<00:16 6.4050]\n",
              "    </div>\n",
              "    "
            ]
          },
          "metadata": {}
        },
        {
          "output_type": "stream",
          "name": "stderr",
          "text": [
            "/usr/local/lib/python3.7/dist-packages/fastai/text/data.py:124: VisibleDeprecationWarning: Creating an ndarray from ragged nested sequences (which is a list-or-tuple of lists-or-tuples-or ndarrays with different lengths or shapes) is deprecated. If you meant to do this, you must specify 'dtype=object' when creating the ndarray.\n",
            "  sort_idx = np.concatenate(np.random.permutation(ck_idx[1:])) if len(ck_idx) > 1 else np.array([],dtype=np.int)\n",
            "<string>:6: VisibleDeprecationWarning: Creating an ndarray from ragged nested sequences (which is a list-or-tuple of lists-or-tuples-or ndarrays with different lengths or shapes) is deprecated. If you meant to do this, you must specify 'dtype=object' when creating the ndarray.\n"
          ]
        },
        {
          "output_type": "stream",
          "name": "stdout",
          "text": [
            "LR Finder is complete, type {learner_name}.recorder.plot() to see the graph.\n"
          ]
        },
        {
          "output_type": "display_data",
          "data": {
            "text/plain": [
              "<Figure size 432x288 with 1 Axes>"
            ],
            "image/png": "[encoded data removed]"
          },
          "metadata": {
            "needs_background": "light"
          }
        }
      ],
      "source": [
        "learn_clas.lr_find()\n",
        "learn_clas.recorder.plot()"
      ]
    },
    {
      "cell_type": "code",
      "execution_count": null,
      "metadata": {
        "id": "VLJQouoEoqU4",
        "colab": {
          "base_uri": "https://localhost:8080/",
          "height": 153
        },
        "outputId": "3d94e001-fedd-458e-ee14-6400ba1ac0a2"
      },
      "outputs": [
        {
          "output_type": "display_data",
          "data": {
            "text/plain": [
              "<IPython.core.display.HTML object>"
            ],
            "text/html": [
              "\n",
              "<style>\n",
              "    /* Turns off some styling */\n",
              "    progress {\n",
              "        /* gets rid of default border in Firefox and Opera. */\n",
              "        border: none;\n",
              "        /* Needs to be in here for Safari polyfill so background images work as expected. */\n",
              "        background-size: auto;\n",
              "    }\n",
              "    .progress-bar-interrupted, .progress-bar-interrupted::-webkit-progress-bar {\n",
              "        background: #F44336;\n",
              "    }\n",
              "</style>\n"
            ]
          },
          "metadata": {}
        },
        {
          "output_type": "display_data",
          "data": {
            "text/plain": [
              "<IPython.core.display.HTML object>"
            ],
            "text/html": [
              "<table border=\"1\" class=\"dataframe\">\n",
              "  <thead>\n",
              "    <tr style=\"text-align: left;\">\n",
              "      <th>epoch</th>\n",
              "      <th>train_loss</th>\n",
              "      <th>valid_loss</th>\n",
              "      <th>accuracy</th>\n",
              "      <th>f_beta</th>\n",
              "      <th>time</th>\n",
              "    </tr>\n",
              "  </thead>\n",
              "  <tbody>\n",
              "    <tr>\n",
              "      <td>0</td>\n",
              "      <td>0.753596</td>\n",
              "      <td>0.623381</td>\n",
              "      <td>0.757473</td>\n",
              "      <td>0.751321</td>\n",
              "      <td>00:28</td>\n",
              "    </tr>\n",
              "  </tbody>\n",
              "</table>"
            ]
          },
          "metadata": {}
        },
        {
          "output_type": "stream",
          "name": "stderr",
          "text": [
            "/usr/local/lib/python3.7/dist-packages/fastai/text/data.py:124: VisibleDeprecationWarning: Creating an ndarray from ragged nested sequences (which is a list-or-tuple of lists-or-tuples-or ndarrays with different lengths or shapes) is deprecated. If you meant to do this, you must specify 'dtype=object' when creating the ndarray.\n",
            "  sort_idx = np.concatenate(np.random.permutation(ck_idx[1:])) if len(ck_idx) > 1 else np.array([],dtype=np.int)\n",
            "<string>:6: VisibleDeprecationWarning: Creating an ndarray from ragged nested sequences (which is a list-or-tuple of lists-or-tuples-or ndarrays with different lengths or shapes) is deprecated. If you meant to do this, you must specify 'dtype=object' when creating the ndarray.\n"
          ]
        }
      ],
      "source": [
        "learn_clas.fit_one_cycle(1, 2e-2)"
      ]
    },
    {
      "cell_type": "code",
      "execution_count": null,
      "metadata": {
        "id": "k1lZ9DIPoqU5"
      },
      "outputs": [],
      "source": [
        "learn_clas.save('arabic_catego_first_acc7483_f643')"
      ]
    },
    {
      "cell_type": "code",
      "execution_count": null,
      "metadata": {
        "id": "17KNLD8toqU5"
      },
      "outputs": [],
      "source": [
        "learn_clas.load('arabic_catego_first_acc7483_f643')"
      ]
    },
    {
      "cell_type": "code",
      "execution_count": null,
      "metadata": {
        "id": "CLdMnNMfoqU6",
        "colab": {
          "base_uri": "https://localhost:8080/",
          "height": 447
        },
        "outputId": "585ea8e6-45b4-4b51-a6d6-c3f4cd49d8f1"
      },
      "outputs": [
        {
          "output_type": "display_data",
          "data": {
            "text/plain": [
              "<IPython.core.display.HTML object>"
            ],
            "text/html": [
              "\n",
              "<style>\n",
              "    /* Turns off some styling */\n",
              "    progress {\n",
              "        /* gets rid of default border in Firefox and Opera. */\n",
              "        border: none;\n",
              "        /* Needs to be in here for Safari polyfill so background images work as expected. */\n",
              "        background-size: auto;\n",
              "    }\n",
              "    .progress-bar-interrupted, .progress-bar-interrupted::-webkit-progress-bar {\n",
              "        background: #F44336;\n",
              "    }\n",
              "</style>\n"
            ]
          },
          "metadata": {}
        },
        {
          "output_type": "display_data",
          "data": {
            "text/plain": [
              "<IPython.core.display.HTML object>"
            ],
            "text/html": [
              "\n",
              "    <div>\n",
              "      <progress value='0' class='' max='1' style='width:300px; height:20px; vertical-align: middle;'></progress>\n",
              "      0.00% [0/1 00:00<00:00]\n",
              "    </div>\n",
              "    \n",
              "<table border=\"1\" class=\"dataframe\">\n",
              "  <thead>\n",
              "    <tr style=\"text-align: left;\">\n",
              "      <th>epoch</th>\n",
              "      <th>train_loss</th>\n",
              "      <th>valid_loss</th>\n",
              "      <th>accuracy</th>\n",
              "      <th>f_beta</th>\n",
              "      <th>time</th>\n",
              "    </tr>\n",
              "  </thead>\n",
              "  <tbody>\n",
              "  </tbody>\n",
              "</table><p>\n",
              "\n",
              "    <div>\n",
              "      <progress value='91' class='' max='259' style='width:300px; height:20px; vertical-align: middle;'></progress>\n",
              "      35.14% [91/259 00:11<00:21 2.1226]\n",
              "    </div>\n",
              "    "
            ]
          },
          "metadata": {}
        },
        {
          "output_type": "stream",
          "name": "stderr",
          "text": [
            "/usr/local/lib/python3.7/dist-packages/fastai/text/data.py:124: VisibleDeprecationWarning: Creating an ndarray from ragged nested sequences (which is a list-or-tuple of lists-or-tuples-or ndarrays with different lengths or shapes) is deprecated. If you meant to do this, you must specify 'dtype=object' when creating the ndarray.\n",
            "  sort_idx = np.concatenate(np.random.permutation(ck_idx[1:])) if len(ck_idx) > 1 else np.array([],dtype=np.int)\n",
            "<string>:6: VisibleDeprecationWarning: Creating an ndarray from ragged nested sequences (which is a list-or-tuple of lists-or-tuples-or ndarrays with different lengths or shapes) is deprecated. If you meant to do this, you must specify 'dtype=object' when creating the ndarray.\n"
          ]
        },
        {
          "output_type": "stream",
          "name": "stdout",
          "text": [
            "LR Finder is complete, type {learner_name}.recorder.plot() to see the graph.\n"
          ]
        },
        {
          "output_type": "display_data",
          "data": {
            "text/plain": [
              "<Figure size 432x288 with 1 Axes>"
            ],
            "image/png": "[encoded data removed]"
          },
          "metadata": {
            "needs_background": "light"
          }
        }
      ],
      "source": [
        "learn_clas.freeze_to(-2)\n",
        "learn_clas.lr_find()\n",
        "learn_clas.recorder.plot()\n",
        "#learn_clas.fit_one_cycle(2, slice(1e-2/(2.6**4),1e-2))"
      ]
    },
    {
      "cell_type": "code",
      "execution_count": null,
      "metadata": {
        "id": "vk1Yr45coqVA",
        "colab": {
          "base_uri": "https://localhost:8080/",
          "height": 153
        },
        "outputId": "d98b666e-ca58-4257-e512-68b4897282f1"
      },
      "outputs": [
        {
          "output_type": "display_data",
          "data": {
            "text/plain": [
              "<IPython.core.display.HTML object>"
            ],
            "text/html": [
              "\n",
              "<style>\n",
              "    /* Turns off some styling */\n",
              "    progress {\n",
              "        /* gets rid of default border in Firefox and Opera. */\n",
              "        border: none;\n",
              "        /* Needs to be in here for Safari polyfill so background images work as expected. */\n",
              "        background-size: auto;\n",
              "    }\n",
              "    .progress-bar-interrupted, .progress-bar-interrupted::-webkit-progress-bar {\n",
              "        background: #F44336;\n",
              "    }\n",
              "</style>\n"
            ]
          },
          "metadata": {}
        },
        {
          "output_type": "display_data",
          "data": {
            "text/plain": [
              "<IPython.core.display.HTML object>"
            ],
            "text/html": [
              "<table border=\"1\" class=\"dataframe\">\n",
              "  <thead>\n",
              "    <tr style=\"text-align: left;\">\n",
              "      <th>epoch</th>\n",
              "      <th>train_loss</th>\n",
              "      <th>valid_loss</th>\n",
              "      <th>accuracy</th>\n",
              "      <th>f_beta</th>\n",
              "      <th>time</th>\n",
              "    </tr>\n",
              "  </thead>\n",
              "  <tbody>\n",
              "    <tr>\n",
              "      <td>0</td>\n",
              "      <td>0.650340</td>\n",
              "      <td>0.620668</td>\n",
              "      <td>0.764706</td>\n",
              "      <td>0.758260</td>\n",
              "      <td>00:31</td>\n",
              "    </tr>\n",
              "  </tbody>\n",
              "</table>"
            ]
          },
          "metadata": {}
        },
        {
          "output_type": "stream",
          "name": "stderr",
          "text": [
            "/usr/local/lib/python3.7/dist-packages/fastai/text/data.py:124: VisibleDeprecationWarning: Creating an ndarray from ragged nested sequences (which is a list-or-tuple of lists-or-tuples-or ndarrays with different lengths or shapes) is deprecated. If you meant to do this, you must specify 'dtype=object' when creating the ndarray.\n",
            "  sort_idx = np.concatenate(np.random.permutation(ck_idx[1:])) if len(ck_idx) > 1 else np.array([],dtype=np.int)\n",
            "<string>:6: VisibleDeprecationWarning: Creating an ndarray from ragged nested sequences (which is a list-or-tuple of lists-or-tuples-or ndarrays with different lengths or shapes) is deprecated. If you meant to do this, you must specify 'dtype=object' when creating the ndarray.\n"
          ]
        }
      ],
      "source": [
        "# to be deleted\n",
        "learn_clas.fit_one_cycle(1, slice(1e-3/(2.6**4),1e-3))"
      ]
    },
    {
      "cell_type": "code",
      "execution_count": null,
      "metadata": {
        "id": "IXQv1ZZAoqVG"
      },
      "outputs": [],
      "source": [
        "pred_class1,pred_idx,outputs=learn_clas.predict(\" أحمد جمال الدين القيادي بحزب مصر\")"
      ]
    },
    {
      "cell_type": "code",
      "execution_count": null,
      "metadata": {
        "id": "1zRqFas9oqVG",
        "colab": {
          "base_uri": "https://localhost:8080/"
        },
        "outputId": "c56ae6d1-d2f4-43a8-8b9a-0f94abc5c709"
      },
      "outputs": [
        {
          "output_type": "stream",
          "name": "stdout",
          "text": [
            "politic\n"
          ]
        }
      ],
      "source": [
        "print(learn_clas.data.classes[to_data(pred_class1)])"
      ]
    },
    {
      "cell_type": "code",
      "execution_count": null,
      "metadata": {
        "id": "q1vL54fSoqVI"
      },
      "outputs": [],
      "source": []
    },
    {
      "cell_type": "code",
      "execution_count": null,
      "metadata": {
        "id": "j8pivr0toqVW"
      },
      "outputs": [],
      "source": []
    },
    {
      "cell_type": "code",
      "execution_count": null,
      "metadata": {
        "id": "rcAHwFc8oqVX"
      },
      "outputs": [],
      "source": []
    },
    {
      "cell_type": "code",
      "execution_count": null,
      "metadata": {
        "id": "LU-2GTMaoqVY"
      },
      "outputs": [],
      "source": []
    },
    {
      "cell_type": "code",
      "execution_count": null,
      "metadata": {
        "id": "HNPQS0choqVY"
      },
      "outputs": [],
      "source": []
    },
    {
      "cell_type": "markdown",
      "metadata": {
        "id": "tZmyOxfqoqVZ"
      },
      "source": [
        "### Results\n",
        "|Dataset|epoch|train_loss|valid_loss|accuracy|f_beta  |seed|test split|\n",
        "|-------|-----|----------|----------|--------|--------|----|----------|\n",
        "|ASTD-B |6\t  |0.438674  |0.448438  |0.864662|0.857988|42  |0.1       |\n",
        "|ASTD   |6\t  |0.659341  |0.857126  |0.698801|0.677395|42  |0.2       |\n",
        "|AJGT   |5    |0.429798\t |0.452757\t|0.805556|0.745665|14  |0.2       |\n",
        "|LEV    |16   |1.185471  |1.251261  |0.523750|0.511322|14  |0.2       |\n",
        "|HARD   |7    |0.121737  |0.128373  |0.956695|0.956682|43  |0.2       |"
      ]
    }
  ],
  "metadata": {
    "colab": {
      "collapsed_sections": [
        "tZmyOxfqoqVZ"
      ],
      "provenance": []
    },
    "kernelspec": {
      "display_name": "Python 3",
      "language": "python",
      "name": "python3"
    },
    "language_info": {
      "codemirror_mode": {
        "name": "ipython",
        "version": 3
      },
      "file_extension": ".py",
      "mimetype": "text/x-python",
      "name": "python",
      "nbconvert_exporter": "python",
      "pygments_lexer": "ipython3",
      "version": "3.6.8"
    },
    "accelerator": "GPU",
    "gpuClass": "standard"
  },
  "nbformat": 4,
  "nbformat_minor": 0
}